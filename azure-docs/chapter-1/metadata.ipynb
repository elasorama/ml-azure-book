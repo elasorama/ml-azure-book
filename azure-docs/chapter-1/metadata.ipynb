{
 "cells": [
  {
   "cell_type": "markdown",
   "metadata": {},
   "source": [
    "# Component metadata"
   ]
  },
  {
   "cell_type": "markdown",
   "metadata": {},
   "source": [
    "The component metadata is a `.yaml` file file that contains the metadata for a component. The metadata is used by the component registry to display information about the component and to run it in the correctly in Azure. \n",
    "\n",
    "Lets dive deeper into the train test spliter metadata file: \n",
    "\n",
    "```yaml\n",
    "$schema: https://azuremlschemas.azureedge.net/latest/commandComponent.schema.json\n",
    "type: command\n",
    "\n",
    "name: train_test_split\n",
    "display_name: Train_Test_Split\n",
    "\n",
    "environment: azureml:AzureML-sklearn-1.0-ubuntu20.04-py38-cpu:1\n",
    "\n",
    "inputs:\n",
    "  input_data:\n",
    "    type: uri_file\n",
    "  train_test_split:\n",
    "    type: number\n",
    "    default: 0.8    \n",
    "\n",
    "outputs:\n",
    "  train_data:\n",
    "    type: uri_file\n",
    "  test_data:\n",
    "    type: uri_file\n",
    "\n",
    "command: >-\n",
    "  python component.py\n",
    "  --input_data ${{inputs.input_data}} \n",
    "  --training_data_path ${{outputs.train_data}}\n",
    "  --train_test_split ${{inputs.train_test_split}}\n",
    "  --test_data_path ${{outputs.test_data}}\n",
    "```"
   ]
  },
  {
   "cell_type": "markdown",
   "metadata": {},
   "source": []
  }
 ],
 "metadata": {
  "language_info": {
   "name": "python"
  }
 },
 "nbformat": 4,
 "nbformat_minor": 2
}
