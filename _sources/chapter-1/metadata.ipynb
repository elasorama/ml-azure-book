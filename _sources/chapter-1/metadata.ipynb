{
 "cells": [
  {
   "cell_type": "markdown",
   "metadata": {},
   "source": [
    "# Component metadata"
   ]
  },
  {
   "cell_type": "markdown",
   "metadata": {},
   "source": [
    "The component metadata is a `.yaml` file file that contains the metadata for a component. The metadata is used by the component registry to display information about the component and to run it correctly in Azure. \n",
    "\n",
    "Lets dive deeper into the train test spliter metadata file: \n",
    "\n",
    "```yaml\n",
    "$schema: https://azuremlschemas.azureedge.net/latest/commandComponent.schema.json\n",
    "type: command\n",
    "\n",
    "name: train_test_split\n",
    "display_name: Train_Test_Split\n",
    "\n",
    "environment: azureml:AzureML-sklearn-1.0-ubuntu20.04-py38-cpu:1\n",
    "\n",
    "inputs:\n",
    "  input_file_path:\n",
    "    type: uri_file\n",
    "  train_test_ratio:\n",
    "    type: number\n",
    "    default: 0.8    \n",
    "\n",
    "outputs:\n",
    "  train_data:\n",
    "    type: uri_file\n",
    "  test_data:\n",
    "    type: uri_file\n",
    "\n",
    "command: >-\n",
    "  python component.py\n",
    "  --input_file_path ${{inputs.input_file_path}} \n",
    "  --training_data_path ${{outputs.train_data}}\n",
    "  --train_test_ratio ${{inputs.train_test_ratio}}\n",
    "  --test_data_path ${{outputs.test_data}}\n",
    "```\n",
    "\n",
    "The most important parts to know from this file is the `inputs` and `outputs` section. These inputs and outputs will be taken care of by Azure and inplace of `uri_file` or `uri_folder`, will contain paths in azure storage. \n",
    "\n",
    "In azure, the `command` part will be executed in a docker container. The `environment` section specifies which docker container to use. The command line arguments will be prefiled with the inputs and outputs from the `inputs` and `outputs` section.\n",
    "\n",
    "Thus, the schema is like this: "
   ]
  },
  {
   "cell_type": "markdown",
   "metadata": {},
   "source": [
    "![schema](./images/components_metadata.png)"
   ]
  },
  {
   "cell_type": "markdown",
   "metadata": {},
   "source": [
    "When azure runs the components, the variables \n",
    "\n",
    "```bash\n",
    "${{inputs.input_data}} \n",
    "${{outputs.train_data}}\n",
    "${{inputs.train_test_split}}\n",
    "${{outputs.test_data}}\n",
    "```\n",
    "\n",
    "Get changed to the actual paths in azure storage or, for input types of `number` or `string`, the actual value we set it in azure. \n"
   ]
  },
  {
   "cell_type": "markdown",
   "metadata": {},
   "source": [
    "## Rendering in azure\n",
    "\n",
    "Now that we have component.py and run.yaml files, we can upload to azure.\n",
    "\n",
    "We can do that by going to the machine learning studio -> components -> new component -> upload a component -> select the folder that contains the component.py and run.yaml files.\n",
    "\n",
    "The component is rendered like: \n",
    "\n",
    "![rendered](./images/component_azure.png)\n",
    "\n",
    "The top buble represents the input to the component and the bottom two represent the outputs. The parameter `train_test_ratio` is a parameter that can be set in the component and is not rendered in the UI. "
   ]
  }
 ],
 "metadata": {
  "language_info": {
   "name": "python"
  }
 },
 "nbformat": 4,
 "nbformat_minor": 2
}
